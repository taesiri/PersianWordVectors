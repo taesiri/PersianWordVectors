{
  "nbformat": 4,
  "nbformat_minor": 0,
  "metadata": {
    "colab": {
      "name": "Persian-WordVectors-FastText.ipynb",
      "provenance": [],
      "collapsed_sections": [],
      "toc_visible": true
    },
    "kernelspec": {
      "name": "python3",
      "display_name": "Python 3"
    }
  },
  "cells": [
    {
      "cell_type": "markdown",
      "metadata": {
        "id": "3-NSJ-cnd4IH",
        "colab_type": "text"
      },
      "source": [
        "# FastText Embeddings for Persian Language\n",
        "\n",
        "* Trained on ``OSCAR`` dataset\n",
        "\n",
        "* Vector Size ``100``\n"
      ]
    },
    {
      "cell_type": "markdown",
      "metadata": {
        "id": "i_JpW-ZEeB4z",
        "colab_type": "text"
      },
      "source": [
        "### Installing FastText"
      ]
    },
    {
      "cell_type": "code",
      "metadata": {
        "id": "TLmzLrPydr6a",
        "colab_type": "code",
        "outputId": "6bda1ea3-ff80-470c-982c-25fdf976bd2f",
        "colab": {
          "base_uri": "https://localhost:8080/",
          "height": 136
        }
      },
      "source": [
        "!git clone https://github.com/facebookresearch/fastText.git "
      ],
      "execution_count": 1,
      "outputs": [
        {
          "output_type": "stream",
          "text": [
            "Cloning into 'fastText'...\n",
            "remote: Enumerating objects: 12, done.\u001b[K\n",
            "remote: Counting objects: 100% (12/12), done.\u001b[K\n",
            "remote: Compressing objects: 100% (10/10), done.\u001b[K\n",
            "remote: Total 3826 (delta 1), reused 4 (delta 0), pack-reused 3814\u001b[K\n",
            "Receiving objects: 100% (3826/3826), 8.21 MiB | 15.79 MiB/s, done.\n",
            "Resolving deltas: 100% (2402/2402), done.\n"
          ],
          "name": "stdout"
        }
      ]
    },
    {
      "cell_type": "code",
      "metadata": {
        "id": "BTaw_vgtn2Dv",
        "colab_type": "code",
        "outputId": "c7a650fd-54cb-4d5e-8d02-31768ae75792",
        "colab": {
          "base_uri": "https://localhost:8080/",
          "height": 224
        }
      },
      "source": [
        "!cd fastText && pip install ."
      ],
      "execution_count": 2,
      "outputs": [
        {
          "output_type": "stream",
          "text": [
            "Processing /content/fastText\n",
            "Requirement already satisfied: pybind11>=2.2 in /usr/local/lib/python3.6/dist-packages (from fasttext==0.9.2) (2.5.0)\n",
            "Requirement already satisfied: setuptools>=0.7.0 in /usr/local/lib/python3.6/dist-packages (from fasttext==0.9.2) (46.1.3)\n",
            "Requirement already satisfied: numpy in /usr/local/lib/python3.6/dist-packages (from fasttext==0.9.2) (1.18.3)\n",
            "Building wheels for collected packages: fasttext\n",
            "  Building wheel for fasttext (setup.py) ... \u001b[?25l\u001b[?25hdone\n",
            "  Created wheel for fasttext: filename=fasttext-0.9.2-cp36-cp36m-linux_x86_64.whl size=3012853 sha256=b184dd3d088b50344e1df834fc35d1a072f25dd8cbcf72fb712633b2b85bac3f\n",
            "  Stored in directory: /tmp/pip-ephem-wheel-cache-52wqc9b3/wheels/a1/9f/52/696ce6c5c46325e840c76614ee5051458c0df10306987e7443\n",
            "Successfully built fasttext\n",
            "Installing collected packages: fasttext\n",
            "Successfully installed fasttext-0.9.2\n"
          ],
          "name": "stdout"
        }
      ]
    },
    {
      "cell_type": "markdown",
      "metadata": {
        "id": "xxq-AfPgehFd",
        "colab_type": "text"
      },
      "source": [
        "## ⚠️ RESTART KERNEL\n",
        "\n",
        "Before Continuing, You have to restart the Runtime"
      ]
    },
    {
      "cell_type": "markdown",
      "metadata": {
        "id": "U_piOcUigU-I",
        "colab_type": "text"
      },
      "source": [
        "## Get The Model"
      ]
    },
    {
      "cell_type": "code",
      "metadata": {
        "id": "MjUX7f6Eel5O",
        "colab_type": "code",
        "colab": {}
      },
      "source": [
        "SKIPGRAM_MODEL_FILE_ID = '1wPnMG9_GNUVdSgbznQziQc5nMWI3QKNz'\n",
        "CBOW_MODEL_FILE_ID = '1cQP10CGV6kAwmRuESJ5RTsgHq5TveXwV'"
      ],
      "execution_count": 0,
      "outputs": []
    },
    {
      "cell_type": "code",
      "metadata": {
        "id": "lDAEvGeAel93",
        "colab_type": "code",
        "outputId": "0a6709b6-a5a7-4ade-b42c-996437bd9a97",
        "colab": {
          "base_uri": "https://localhost:8080/",
          "height": 85
        }
      },
      "source": [
        "# Let's explore the SKIPGRAM Model\n",
        "\n",
        "!gdown --id $SKIPGRAM_MODEL_FILE_ID "
      ],
      "execution_count": 4,
      "outputs": [
        {
          "output_type": "stream",
          "text": [
            "Downloading...\n",
            "From: https://drive.google.com/uc?id=1wPnMG9_GNUVdSgbznQziQc5nMWI3QKNz\n",
            "To: /content/farsi-dedup-skipgram.bin\n",
            "4.37GB [00:52, 83.5MB/s]\n"
          ],
          "name": "stdout"
        }
      ]
    },
    {
      "cell_type": "markdown",
      "metadata": {
        "id": "kR10-nSUgbLx",
        "colab_type": "text"
      },
      "source": [
        "## Load the Model"
      ]
    },
    {
      "cell_type": "code",
      "metadata": {
        "id": "JfXaALqjgTQv",
        "colab_type": "code",
        "outputId": "dcaaee7f-e2f9-49ae-ac2d-ed421edcae12",
        "colab": {
          "base_uri": "https://localhost:8080/",
          "height": 34
        }
      },
      "source": [
        "import fasttext.util\n",
        "# loading the Model\n",
        "model_skipgram = fasttext.load_model('farsi-dedup-skipgram.bin')"
      ],
      "execution_count": 2,
      "outputs": [
        {
          "output_type": "stream",
          "text": [
            "Warning : `load_model` does not return WordVectorModel or SupervisedModel any more, but a `FastText` object which is very similar.\n"
          ],
          "name": "stderr"
        }
      ]
    },
    {
      "cell_type": "markdown",
      "metadata": {
        "id": "gCjG1DKurR-t",
        "colab_type": "text"
      },
      "source": [
        "# Getting Nearest Words, for word ``سگ``\n",
        "``Dog`` in persian is ``سگ``\n",
        "\n",
        "\n",
        "![alt text](https://upload.wikimedia.org/wikipedia/commons/thumb/a/a8/Lava_the_sled_dog.jpg/800px-Lava_the_sled_dog.jpg)\n",
        "\n",
        "Image taken from [here](https://commons.wikimedia.org/wiki/File:Lava_the_sled_dog.jpg)"
      ]
    },
    {
      "cell_type": "code",
      "metadata": {
        "id": "MAdg99T0gTS4",
        "colab_type": "code",
        "outputId": "a6d0f091-4c01-4b36-9458-237b56c2adda",
        "colab": {
          "base_uri": "https://localhost:8080/",
          "height": 442
        }
      },
      "source": [
        "model_skipgram.get_nearest_neighbors('سگ', 25)"
      ],
      "execution_count": 3,
      "outputs": [
        {
          "output_type": "execute_result",
          "data": {
            "text/plain": [
              "[(0.782295823097229, 'روتوایلر'),\n",
              " (0.7789124250411987, 'توله'),\n",
              " (0.7602617144584656, 'شیتزو'),\n",
              " (0.758849024772644, 'گربه'),\n",
              " (0.7493144273757935, 'بولداگ'),\n",
              " (0.7487086653709412, 'پامرانیان'),\n",
              " (0.7453492283821106, 'چاوچاو'),\n",
              " (0.7400702834129333, 'تریر'),\n",
              " (0.7363772988319397, 'پامرانیا'),\n",
              " (0.7327418923377991, 'رتوایلر'),\n",
              " (0.7243485450744629, 'پاگ'),\n",
              " (0.7216327786445618, 'روتوایلر،'),\n",
              " (0.721341609954834, '_سگ'),\n",
              " (0.719440758228302, 'ایگوانا'),\n",
              " (0.7192081212997437, 'سگسگ'),\n",
              " (0.7191919088363647, '،سگ'),\n",
              " (0.7173099517822266, 'سگ،'),\n",
              " (0.7163112163543701, 'شپهرد'),\n",
              " (0.7139168977737427, 'سگ,سگ'),\n",
              " (0.7111517786979675, 'گربهء'),\n",
              " (0.7074176073074341, 'سگ\\u200cهای'),\n",
              " (0.7066739201545715, '.سگ'),\n",
              " (0.7048391699790955, 'دوبرمن'),\n",
              " (0.7031064033508301, 'روتوایلر...'),\n",
              " (0.7029660940170288, 'قدرجونی')]"
            ]
          },
          "metadata": {
            "tags": []
          },
          "execution_count": 3
        }
      ]
    },
    {
      "cell_type": "markdown",
      "metadata": {
        "id": "2_STAqZgrCLW",
        "colab_type": "text"
      },
      "source": [
        "Results are very interesting, for example, different kinds of dog breeds are very close to the word \"Dog\" itself.\n",
        "\n",
        "\n",
        "\n",
        "| Persian   \t| English    \t|\n",
        "|-----------\t|------------\t|\n",
        "| بولداگ    \t| Bulldog    \t|\n",
        "| پاگ       \t| Pag        \t|\n",
        "| پامرانیا  \t| Pamranya   \t|\n",
        "| پامرانیان \t| Pamranyan  \t|\n",
        "| تریر      \t| Terrier    \t|\n",
        "| چاوچاو    \t| chạwchạw   \t|\n",
        "| دوبرمن    \t| Doberman   \t|\n",
        "| رتوایلر   \t| Rtvaylr    \t|\n",
        "| روتوایلر  \t| Rottweiler \t|\n",
        "| شپهرد     \t| Shepherd   \t|\n",
        "| شیتزو     \t| Shih Tzu   \t|\n",
        "| قدرجونی   \t| Qdrjvny    \t|\n",
        "\n",
        "\n",
        "More interstingly, you can also see ``Cat`` (``گربه``)  and  ``Iguana ``  (``ایگوانا``) in the results "
      ]
    },
    {
      "cell_type": "markdown",
      "metadata": {
        "id": "QGHm38Q9ugMe",
        "colab_type": "text"
      },
      "source": [
        "## Do some plotting"
      ]
    },
    {
      "cell_type": "code",
      "metadata": {
        "id": "0JQsMNJDuojI",
        "colab_type": "code",
        "colab": {}
      },
      "source": [
        "! pip install arabic_reshaper\n",
        "! pip install python-bidi"
      ],
      "execution_count": 0,
      "outputs": []
    },
    {
      "cell_type": "code",
      "metadata": {
        "id": "ldJ6Y1yyuh_I",
        "colab_type": "code",
        "colab": {}
      },
      "source": [
        "import numpy as np\n",
        "import matplotlib\n",
        "from matplotlib import pyplot as plt\n",
        "%matplotlib inline\n",
        "\n",
        "import seaborn as sns\n",
        "\n",
        "from bidi.algorithm import get_display\n",
        "\n",
        "import arabic_reshaper\n",
        "\n",
        "import pandas as pd"
      ],
      "execution_count": 0,
      "outputs": []
    },
    {
      "cell_type": "code",
      "metadata": {
        "id": "hAw40WsLumhs",
        "colab_type": "code",
        "colab": {}
      },
      "source": [
        "words =  [\n",
        "'ایگوانا' , \n",
        "'اسب',\n",
        "'خر',\n",
        "'الاغ',\n",
        "'تمساح',\n",
        "'شتر',\n",
        "'گربه',\n",
        "'پلنگ' ,\n",
        "'روباه' ,\n",
        "'موزخوار' ,\n",
        "'گوزن' ,\n",
        "'مرغ ' ,\n",
        "'لاک‌پشت' ,\n",
        "'شیر' ,\n",
        "'زرافه',\n",
        "'عقاب' ,\n",
        "'بوفالو' ,\n",
        "'ببر' ,\n",
        "'غزال' ,\n",
        "'وشق' ,\n",
        "'گرگ' ,\n",
        "'لک‌لک' ,\n",
        "'کیوی' ,\n",
        "'جگوار' ,\n",
        "'گاو' ,\n",
        "'دودو' ,\n",
        "'کبک' ,\n",
        "'شنقار' ,\n",
        "'درازدامن' ,\n",
        "'دلفین' ,\n",
        "'خرس' ,\n",
        "'صدف‌خوار' ,\n",
        "'دجاج', \n",
        "'بوقلمون', \n",
        "'لانه‌کن', \n",
        "'سمور', \n",
        "'کرکس', \n",
        "'توکان', \n",
        "'تاکین', \n",
        "'تاپیر بیرد', \n",
        "'ویسنت', \n",
        "'ماهی', \n",
        "'شترمرغ', \n",
        "'طاووس'\n",
        "]"
      ],
      "execution_count": 0,
      "outputs": []
    },
    {
      "cell_type": "code",
      "metadata": {
        "id": "XgDeKE1fz9BQ",
        "colab_type": "code",
        "colab": {}
      },
      "source": [
        "def plot_from_df(df, plot_title=\"\", label_distance=1):\n",
        "  with sns.axes_style(\"whitegrid\"):\n",
        "    ax = sns.lmplot('Component 1', # Horizontal axis\n",
        "                    'Component 2', # Vertical axis\n",
        "                    data=df, # Data source\n",
        "                    fit_reg=False, # Don't fix a regression line\n",
        "                    height = 7,\n",
        "                    aspect =2 ) # size and dimension\n",
        "\n",
        "    plt.title(plot_title)\n",
        "    plt.xlabel('Component 1')\n",
        "    plt.ylabel('Component 2')\n",
        "\n",
        "    # Source: https://stackoverflow.com/questions/46027653/adding-labels-in-x-y-scatter-plot-with-seaborn\n",
        "    def label_point(x, y, val, ax):\n",
        "      a = pd.concat({'x': x, 'y': y, 'val': val}, axis=1)\n",
        "      for i, point in a.iterrows():\n",
        "        ax.text(point['x']+(label_distance*0.05), point['y']+(label_distance*0.05), get_display(arabic_reshaper.reshape(str.encode(point['val'], 'utf-8').decode())) )\n",
        "\n",
        "    label_point(df['Component 1'], df['Component 2'], df['Word'], plt.gca()) \n",
        "\n",
        "    plt.show()"
      ],
      "execution_count": 0,
      "outputs": []
    },
    {
      "cell_type": "code",
      "metadata": {
        "id": "BmG5y42fvCNK",
        "colab_type": "code",
        "colab": {}
      },
      "source": [
        "# Get embedding for each word\n",
        "embeddings = [model_skipgram[w] for w in words]"
      ],
      "execution_count": 0,
      "outputs": []
    },
    {
      "cell_type": "markdown",
      "metadata": {
        "id": "5i6csIWMzIcW",
        "colab_type": "text"
      },
      "source": [
        "# PCA"
      ]
    },
    {
      "cell_type": "code",
      "metadata": {
        "id": "o6j2cVs6vmBc",
        "colab_type": "code",
        "colab": {}
      },
      "source": [
        "from sklearn.decomposition import PCA\n",
        "from sklearn.preprocessing import StandardScaler"
      ],
      "execution_count": 0,
      "outputs": []
    },
    {
      "cell_type": "code",
      "metadata": {
        "id": "vV5ovgz0umod",
        "colab_type": "code",
        "colab": {}
      },
      "source": [
        "pca = PCA(n_components=2)\n",
        "principalComponents = pca.fit_transform(embeddings)\n",
        "\n",
        "principalDf = pd.DataFrame( {'Word': pd.Series(words, dtype=str),\n",
        "      'Component 1': pd.Series(principalComponents[:,0], dtype=float),\n",
        "      'Component 2': pd.Series(principalComponents[:,1], dtype=float)})"
      ],
      "execution_count": 0,
      "outputs": []
    },
    {
      "cell_type": "code",
      "metadata": {
        "id": "gYdb1RlTK2Q1",
        "colab_type": "code",
        "colab": {
          "base_uri": "https://localhost:8080/",
          "height": 529
        },
        "outputId": "da86b2fe-470a-46e2-deeb-d81bc57651ea"
      },
      "source": [
        "plot_from_df(principalDf, \"PCA\")"
      ],
      "execution_count": 11,
      "outputs": [
        {
          "output_type": "display_data",
          "data": {
            "image/png": "[encoded data removed]",
            "text/plain": [
              "<Figure size 1008x504 with 1 Axes>"
            ]
          },
          "metadata": {
            "tags": []
          }
        }
      ]
    },
    {
      "cell_type": "markdown",
      "metadata": {
        "id": "n6DVseCCzGQ4",
        "colab_type": "text"
      },
      "source": [
        "# t-SNE"
      ]
    },
    {
      "cell_type": "code",
      "metadata": {
        "id": "x4dVgdNfzMMI",
        "colab_type": "code",
        "colab": {}
      },
      "source": [
        "from sklearn.manifold import TSNE"
      ],
      "execution_count": 0,
      "outputs": []
    },
    {
      "cell_type": "code",
      "metadata": {
        "id": "2HmiVSTsyRkN",
        "colab_type": "code",
        "outputId": "080006d1-6b6a-4be8-90fc-08f604d9d25d",
        "colab": {
          "base_uri": "https://localhost:8080/",
          "height": 136
        }
      },
      "source": [
        "tsne = TSNE(n_components=2, verbose=1, perplexity=5, n_iter=1000)\n",
        "\n",
        "tsne_results = tsne.fit_transform(embeddings)\n",
        "tsneDf = pd.DataFrame( {'Word': pd.Series(words, dtype=str),\n",
        "      'Component 1': pd.Series(tsne_results[:,0], dtype=float),\n",
        "      'Component 2': pd.Series(tsne_results[:,1], dtype=float)})\n"
      ],
      "execution_count": 13,
      "outputs": [
        {
          "output_type": "stream",
          "text": [
            "[t-SNE] Computing 16 nearest neighbors...\n",
            "[t-SNE] Indexed 44 samples in 0.002s...\n",
            "[t-SNE] Computed neighbors for 44 samples in 0.002s...\n",
            "[t-SNE] Computed conditional probabilities for sample 44 / 44\n",
            "[t-SNE] Mean sigma: 1.080821\n",
            "[t-SNE] KL divergence after 250 iterations with early exaggeration: 66.916046\n",
            "[t-SNE] KL divergence after 1000 iterations: 0.876413\n"
          ],
          "name": "stdout"
        }
      ]
    },
    {
      "cell_type": "code",
      "metadata": {
        "id": "MVpI5_8D0xxK",
        "colab_type": "code",
        "outputId": "d73fd27c-c95e-4430-e2d8-9eab09ff0ada",
        "colab": {
          "base_uri": "https://localhost:8080/",
          "height": 1000
        }
      },
      "source": [
        "tsneDf"
      ],
      "execution_count": 14,
      "outputs": [
        {
          "output_type": "execute_result",
          "data": {
            "text/html": [
              "<div>\n",
              "<style scoped>\n",
              "    .dataframe tbody tr th:only-of-type {\n",
              "        vertical-align: middle;\n",
              "    }\n",
              "\n",
              "    .dataframe tbody tr th {\n",
              "        vertical-align: top;\n",
              "    }\n",
              "\n",
              "    .dataframe thead th {\n",
              "        text-align: right;\n",
              "    }\n",
              "</style>\n",
              "<table border=\"1\" class=\"dataframe\">\n",
              "  <thead>\n",
              "    <tr style=\"text-align: right;\">\n",
              "      <th></th>\n",
              "      <th>Word</th>\n",
              "      <th>Component 1</th>\n",
              "      <th>Component 2</th>\n",
              "    </tr>\n",
              "  </thead>\n",
              "  <tbody>\n",
              "    <tr>\n",
              "      <th>0</th>\n",
              "      <td>ایگوانا</td>\n",
              "      <td>-91.826584</td>\n",
              "      <td>45.098480</td>\n",
              "    </tr>\n",
              "    <tr>\n",
              "      <th>1</th>\n",
              "      <td>اسب</td>\n",
              "      <td>26.676863</td>\n",
              "      <td>-132.220734</td>\n",
              "    </tr>\n",
              "    <tr>\n",
              "      <th>2</th>\n",
              "      <td>خر</td>\n",
              "      <td>-0.695346</td>\n",
              "      <td>-73.723679</td>\n",
              "    </tr>\n",
              "    <tr>\n",
              "      <th>3</th>\n",
              "      <td>الاغ</td>\n",
              "      <td>-5.944066</td>\n",
              "      <td>-119.264320</td>\n",
              "    </tr>\n",
              "    <tr>\n",
              "      <th>4</th>\n",
              "      <td>تمساح</td>\n",
              "      <td>-19.752426</td>\n",
              "      <td>46.634068</td>\n",
              "    </tr>\n",
              "    <tr>\n",
              "      <th>5</th>\n",
              "      <td>شتر</td>\n",
              "      <td>16.000875</td>\n",
              "      <td>-110.453720</td>\n",
              "    </tr>\n",
              "    <tr>\n",
              "      <th>6</th>\n",
              "      <td>گربه</td>\n",
              "      <td>-76.900780</td>\n",
              "      <td>48.546539</td>\n",
              "    </tr>\n",
              "    <tr>\n",
              "      <th>7</th>\n",
              "      <td>پلنگ</td>\n",
              "      <td>20.580557</td>\n",
              "      <td>114.023643</td>\n",
              "    </tr>\n",
              "    <tr>\n",
              "      <th>8</th>\n",
              "      <td>روباه</td>\n",
              "      <td>-44.781902</td>\n",
              "      <td>41.786091</td>\n",
              "    </tr>\n",
              "    <tr>\n",
              "      <th>9</th>\n",
              "      <td>موزخوار</td>\n",
              "      <td>83.924042</td>\n",
              "      <td>-29.970369</td>\n",
              "    </tr>\n",
              "    <tr>\n",
              "      <th>10</th>\n",
              "      <td>گوزن</td>\n",
              "      <td>-1.669342</td>\n",
              "      <td>51.262852</td>\n",
              "    </tr>\n",
              "    <tr>\n",
              "      <th>11</th>\n",
              "      <td>مرغ</td>\n",
              "      <td>73.797386</td>\n",
              "      <td>-118.267479</td>\n",
              "    </tr>\n",
              "    <tr>\n",
              "      <th>12</th>\n",
              "      <td>لاک‌پشت</td>\n",
              "      <td>-73.737640</td>\n",
              "      <td>107.210884</td>\n",
              "    </tr>\n",
              "    <tr>\n",
              "      <th>13</th>\n",
              "      <td>شیر</td>\n",
              "      <td>104.045219</td>\n",
              "      <td>-75.137169</td>\n",
              "    </tr>\n",
              "    <tr>\n",
              "      <th>14</th>\n",
              "      <td>زرافه</td>\n",
              "      <td>-27.329851</td>\n",
              "      <td>133.570709</td>\n",
              "    </tr>\n",
              "    <tr>\n",
              "      <th>15</th>\n",
              "      <td>عقاب</td>\n",
              "      <td>-95.978836</td>\n",
              "      <td>-18.559546</td>\n",
              "    </tr>\n",
              "    <tr>\n",
              "      <th>16</th>\n",
              "      <td>بوفالو</td>\n",
              "      <td>-26.887138</td>\n",
              "      <td>71.311066</td>\n",
              "    </tr>\n",
              "    <tr>\n",
              "      <th>17</th>\n",
              "      <td>ببر</td>\n",
              "      <td>11.049977</td>\n",
              "      <td>70.907494</td>\n",
              "    </tr>\n",
              "    <tr>\n",
              "      <th>18</th>\n",
              "      <td>غزال</td>\n",
              "      <td>16.920069</td>\n",
              "      <td>37.858723</td>\n",
              "    </tr>\n",
              "    <tr>\n",
              "      <th>19</th>\n",
              "      <td>وشق</td>\n",
              "      <td>-0.504379</td>\n",
              "      <td>-0.207813</td>\n",
              "    </tr>\n",
              "    <tr>\n",
              "      <th>20</th>\n",
              "      <td>گرگ</td>\n",
              "      <td>45.577942</td>\n",
              "      <td>66.243073</td>\n",
              "    </tr>\n",
              "    <tr>\n",
              "      <th>21</th>\n",
              "      <td>لک‌لک</td>\n",
              "      <td>-113.216927</td>\n",
              "      <td>59.772980</td>\n",
              "    </tr>\n",
              "    <tr>\n",
              "      <th>22</th>\n",
              "      <td>کیوی</td>\n",
              "      <td>91.251060</td>\n",
              "      <td>-44.386681</td>\n",
              "    </tr>\n",
              "    <tr>\n",
              "      <th>23</th>\n",
              "      <td>جگوار</td>\n",
              "      <td>35.659851</td>\n",
              "      <td>-157.787201</td>\n",
              "    </tr>\n",
              "    <tr>\n",
              "      <th>24</th>\n",
              "      <td>گاو</td>\n",
              "      <td>33.832932</td>\n",
              "      <td>-104.449661</td>\n",
              "    </tr>\n",
              "    <tr>\n",
              "      <th>25</th>\n",
              "      <td>دودو</td>\n",
              "      <td>-36.835255</td>\n",
              "      <td>-12.611772</td>\n",
              "    </tr>\n",
              "    <tr>\n",
              "      <th>26</th>\n",
              "      <td>کبک</td>\n",
              "      <td>37.916004</td>\n",
              "      <td>-38.112583</td>\n",
              "    </tr>\n",
              "    <tr>\n",
              "      <th>27</th>\n",
              "      <td>شنقار</td>\n",
              "      <td>-26.810232</td>\n",
              "      <td>-32.726875</td>\n",
              "    </tr>\n",
              "    <tr>\n",
              "      <th>28</th>\n",
              "      <td>درازدامن</td>\n",
              "      <td>-83.259674</td>\n",
              "      <td>-89.679665</td>\n",
              "    </tr>\n",
              "    <tr>\n",
              "      <th>29</th>\n",
              "      <td>دلفین</td>\n",
              "      <td>59.095646</td>\n",
              "      <td>20.444759</td>\n",
              "    </tr>\n",
              "    <tr>\n",
              "      <th>30</th>\n",
              "      <td>خرس</td>\n",
              "      <td>-11.816944</td>\n",
              "      <td>106.518707</td>\n",
              "    </tr>\n",
              "    <tr>\n",
              "      <th>31</th>\n",
              "      <td>صدف‌خوار</td>\n",
              "      <td>-117.176651</td>\n",
              "      <td>25.100397</td>\n",
              "    </tr>\n",
              "    <tr>\n",
              "      <th>32</th>\n",
              "      <td>دجاج</td>\n",
              "      <td>-57.268658</td>\n",
              "      <td>-59.702755</td>\n",
              "    </tr>\n",
              "    <tr>\n",
              "      <th>33</th>\n",
              "      <td>بوقلمون</td>\n",
              "      <td>68.381424</td>\n",
              "      <td>-90.813103</td>\n",
              "    </tr>\n",
              "    <tr>\n",
              "      <th>34</th>\n",
              "      <td>لانه‌کن</td>\n",
              "      <td>-136.196701</td>\n",
              "      <td>75.190651</td>\n",
              "    </tr>\n",
              "    <tr>\n",
              "      <th>35</th>\n",
              "      <td>سمور</td>\n",
              "      <td>-59.971680</td>\n",
              "      <td>87.686676</td>\n",
              "    </tr>\n",
              "    <tr>\n",
              "      <th>36</th>\n",
              "      <td>کرکس</td>\n",
              "      <td>-19.198805</td>\n",
              "      <td>13.033937</td>\n",
              "    </tr>\n",
              "    <tr>\n",
              "      <th>37</th>\n",
              "      <td>توکان</td>\n",
              "      <td>-61.622128</td>\n",
              "      <td>4.537415</td>\n",
              "    </tr>\n",
              "    <tr>\n",
              "      <th>38</th>\n",
              "      <td>تاکین</td>\n",
              "      <td>138.531723</td>\n",
              "      <td>14.713703</td>\n",
              "    </tr>\n",
              "    <tr>\n",
              "      <th>39</th>\n",
              "      <td>تاپیر بیرد</td>\n",
              "      <td>-68.881699</td>\n",
              "      <td>-74.525467</td>\n",
              "    </tr>\n",
              "    <tr>\n",
              "      <th>40</th>\n",
              "      <td>ویسنت</td>\n",
              "      <td>138.284622</td>\n",
              "      <td>34.565331</td>\n",
              "    </tr>\n",
              "    <tr>\n",
              "      <th>41</th>\n",
              "      <td>ماهی</td>\n",
              "      <td>75.712807</td>\n",
              "      <td>-73.990974</td>\n",
              "    </tr>\n",
              "    <tr>\n",
              "      <th>42</th>\n",
              "      <td>شترمرغ</td>\n",
              "      <td>-10.092168</td>\n",
              "      <td>-161.997208</td>\n",
              "    </tr>\n",
              "    <tr>\n",
              "      <th>43</th>\n",
              "      <td>طاووس</td>\n",
              "      <td>-37.293495</td>\n",
              "      <td>-99.642143</td>\n",
              "    </tr>\n",
              "  </tbody>\n",
              "</table>\n",
              "</div>"
            ],
            "text/plain": [
              "          Word  Component 1  Component 2\n",
              "0      ایگوانا   -91.826584    45.098480\n",
              "1          اسب    26.676863  -132.220734\n",
              "2           خر    -0.695346   -73.723679\n",
              "3         الاغ    -5.944066  -119.264320\n",
              "4        تمساح   -19.752426    46.634068\n",
              "5          شتر    16.000875  -110.453720\n",
              "6         گربه   -76.900780    48.546539\n",
              "7         پلنگ    20.580557   114.023643\n",
              "8        روباه   -44.781902    41.786091\n",
              "9      موزخوار    83.924042   -29.970369\n",
              "10        گوزن    -1.669342    51.262852\n",
              "11        مرغ     73.797386  -118.267479\n",
              "12     لاک‌پشت   -73.737640   107.210884\n",
              "13         شیر   104.045219   -75.137169\n",
              "14       زرافه   -27.329851   133.570709\n",
              "15        عقاب   -95.978836   -18.559546\n",
              "16      بوفالو   -26.887138    71.311066\n",
              "17         ببر    11.049977    70.907494\n",
              "18        غزال    16.920069    37.858723\n",
              "19         وشق    -0.504379    -0.207813\n",
              "20         گرگ    45.577942    66.243073\n",
              "21       لک‌لک  -113.216927    59.772980\n",
              "22        کیوی    91.251060   -44.386681\n",
              "23       جگوار    35.659851  -157.787201\n",
              "24         گاو    33.832932  -104.449661\n",
              "25        دودو   -36.835255   -12.611772\n",
              "26         کبک    37.916004   -38.112583\n",
              "27       شنقار   -26.810232   -32.726875\n",
              "28    درازدامن   -83.259674   -89.679665\n",
              "29       دلفین    59.095646    20.444759\n",
              "30         خرس   -11.816944   106.518707\n",
              "31    صدف‌خوار  -117.176651    25.100397\n",
              "32        دجاج   -57.268658   -59.702755\n",
              "33     بوقلمون    68.381424   -90.813103\n",
              "34     لانه‌کن  -136.196701    75.190651\n",
              "35        سمور   -59.971680    87.686676\n",
              "36        کرکس   -19.198805    13.033937\n",
              "37       توکان   -61.622128     4.537415\n",
              "38       تاکین   138.531723    14.713703\n",
              "39  تاپیر بیرد   -68.881699   -74.525467\n",
              "40       ویسنت   138.284622    34.565331\n",
              "41        ماهی    75.712807   -73.990974\n",
              "42      شترمرغ   -10.092168  -161.997208\n",
              "43       طاووس   -37.293495   -99.642143"
            ]
          },
          "metadata": {
            "tags": []
          },
          "execution_count": 14
        }
      ]
    },
    {
      "cell_type": "code",
      "metadata": {
        "id": "htDmE3h-zzb-",
        "colab_type": "code",
        "outputId": "0858d38a-b833-4ba7-922a-50323b06aeea",
        "colab": {
          "base_uri": "https://localhost:8080/",
          "height": 529
        }
      },
      "source": [
        "plot_from_df(tsneDf, plot_title=\"t-SNE\", label_distance=75)"
      ],
      "execution_count": 15,
      "outputs": [
        {
          "output_type": "display_data",
          "data": {
            "image/png": "[encoded data removed]",
            "text/plain": [
              "<Figure size 1008x504 with 1 Axes>"
            ]
          },
          "metadata": {
            "tags": []
          }
        }
      ]
    }
  ]
}